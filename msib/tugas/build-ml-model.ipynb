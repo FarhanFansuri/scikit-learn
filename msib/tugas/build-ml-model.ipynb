{
  "cells": [
    {
      "cell_type": "markdown",
      "metadata": {
        "id": "view-in-github",
        "colab_type": "text"
      },
      "source": [
        "<a href=\"https://colab.research.google.com/github/FarhanFansuri/scikit-learn/blob/main/msib/tugas/build-ml-model.ipynb\" target=\"_parent\"><img src=\"https://colab.research.google.com/assets/colab-badge.svg\" alt=\"Open In Colab\"/></a>"
      ]
    },
    {
      "cell_type": "markdown",
      "metadata": {
        "id": "d1VT4G5tyl5G"
      },
      "source": [
        "# Kampus Merdeka 6: IBM & Skilvul\n",
        "# Data Science Phase Challenge"
      ]
    },
    {
      "cell_type": "markdown",
      "metadata": {
        "id": "ZZ6YqGiyyvdC"
      },
      "source": [
        "# Problem Definition\n",
        "## Latar Belakang\n",
        "\n",
        "Tenggelamnya Titanic adalah salah satu kecelakaan kapal paling terkenal dalam sejarah.\n",
        "\n",
        "Pada tanggal 15 April 1912, selama pelayaran perdana, RMS Titanic yang dianggap \"tak bisa tenggelam\" tenggelam setelah bertabrakan dengan gunung es. Sayangnya, tidak cukup banyak kapal penyelamat untuk semua penumpang yang berada di kapal, yang mengakibatkan kematian 1502 dari 2224 penumpang dan kru.\n",
        "\n",
        "Meskipun ada beberapa unsur keberuntungan yang terlibat dalam bertahan hidup, tampaknya beberapa kelompok orang lebih mungkin untuk bertahan hidup daripada yang lain.\n",
        "\n",
        "Dalam tantangan ini, kami meminta Anda untuk membangun model prediktif yang menjawab pertanyaan: \"jenis orang seperti apa yang lebih mungkin untuk bertahan hidup?\" menggunakan data penumpang (misalnya nama, usia, jenis kelamin, kelas sosial ekonomi, dll.).\n",
        "\n",
        "\n",
        "## Tujuan Penelitian\n",
        "\n",
        "Tujuan akhir dari analisis dataset Titanic adalah untuk membangun model prediktif yang dapat memprediksi kemungkinan kelangsungan hidup penumpang berdasarkan atribut-atribut tertentu yang dimiliki oleh setiap individu.\n",
        "\n",
        "## Rumusan Masalah\n",
        "\n",
        "Dengan menggunakan dataset yang berisi informasi tentang penumpang kapal Titanic, bagaimana kita dapat membangun model prediktif yang dapat memprediksi kemungkinan kelangsungan hidup penumpang berdasarkan atribut-atribut seperti usia, jenis kelamin, kelas tiket, dll.?\n",
        "\n",
        "## Data yang akan dipakai\n",
        "\n",
        "Nama dataset : Titanic Dataset\n",
        "source : https://www.kaggle.com/datasets/sakshisatre/titanic-dataset\n",
        "\n",
        "deskripsi : Kumpulan data yang berisi informasi tentang penumpang kapal Titanic adalah salah satu kumpulan data yang paling terkenal yang digunakan dalam ilmu data dan pembelajaran mesin. Kumpulan data ini dibuat untuk menganalisis dan memahami faktor-faktor yang memengaruhi tingkat kelangsungan hidup di antara penumpang selama tenggelamnya tragis RMS Titanic pada tanggal 15 April 1912.\n",
        "\n",
        "## Metode\n",
        "\n",
        "Berikut metode yang akan digunakan:\n",
        "1. Logistic Regression\n",
        "2. Decision Trees\n",
        "3. Random Forest\n",
        "4. SVM\n",
        "5. Neural Network\n"
      ]
    },
    {
      "cell_type": "markdown",
      "metadata": {
        "id": "V5C2jSQ6R98h"
      },
      "source": [
        "# Preparation | Persiapan\n",
        "## Import Libraries"
      ]
    },
    {
      "cell_type": "code",
      "execution_count": 51,
      "metadata": {
        "id": "RTGMRAdQaHm8"
      },
      "outputs": [],
      "source": [
        "import tensorflow as tf\n",
        "import matplotlib.pyplot as plt\n",
        "import pandas as pd\n",
        "from sklearn.model_selection import train_test_split\n",
        "from sklearn.preprocessing import LabelEncoder\n",
        "from sklearn.linear_model import LogisticRegression\n",
        "import seaborn as sns\n",
        "from sklearn.metrics import accuracy_score\n",
        "from sklearn.tree import DecisionTreeClassifier\n",
        "from sklearn.ensemble import RandomForestClassifier\n",
        "from sklearn.svm import SVC\n",
        "from tensorflow.keras.models import Sequential\n",
        "from tensorflow.keras.layers import Dense\n",
        "\n",
        "pd.set_option('display.max_rows', 10000)"
      ]
    },
    {
      "cell_type": "markdown",
      "metadata": {
        "id": "zPmcajUfSTDd"
      },
      "source": [
        "## Get Data | Mendapatkan Data"
      ]
    },
    {
      "cell_type": "markdown",
      "source": [
        "### Data gathering"
      ],
      "metadata": {
        "id": "WdI9JsgZ1QwT"
      }
    },
    {
      "cell_type": "code",
      "execution_count": null,
      "metadata": {
        "id": "FeEis7MISTW_"
      },
      "outputs": [],
      "source": [
        "titanic_dataset = pd.read_csv('/content/Titanic Dataset.csv')\n",
        "titanic_dataset"
      ]
    },
    {
      "cell_type": "markdown",
      "source": [
        "### Data preprocessing and feature engineering"
      ],
      "metadata": {
        "id": "tzaknPH81Y7X"
      }
    },
    {
      "cell_type": "code",
      "source": [
        "# Inisialisasi LabelEncoder\n",
        "encoder = LabelEncoder()\n",
        "\n",
        "# Melakukan Label Encoding sebagai upaya quantifikasi pada label non-numerik\n",
        "titanic_dataset['sex'] = encoder.fit_transform(titanic_dataset['sex'])\n",
        "titanic_dataset['embarked'] = encoder.fit_transform(titanic_dataset['embarked'])\n",
        "\n",
        "# Menghapus sebagian kolom\n",
        "dropped_columns = ['name', 'ticket', 'cabin', 'body', 'boat', 'home.dest']\n",
        "titanic_dataset = titanic_dataset[[col for col in titanic_dataset.columns if col not in dropped_columns]]\n",
        "\n"
      ],
      "metadata": {
        "id": "EezFo-rQ1Vuc"
      },
      "execution_count": null,
      "outputs": []
    },
    {
      "cell_type": "code",
      "source": [
        "correlation_matrix = titanic_dataset.corr()\n",
        "plt.figure(figsize=(10, 8))\n",
        "sns.heatmap(correlation_matrix, annot=True, cmap='coolwarm', fmt=\".2f\", linewidths=0.5)\n",
        "plt.title('Heatmap Korelasi')\n",
        "plt.show()\n"
      ],
      "metadata": {
        "id": "ipP-wdzcgIGG"
      },
      "execution_count": null,
      "outputs": []
    },
    {
      "cell_type": "markdown",
      "metadata": {
        "id": "qlMrrpF9SaIb"
      },
      "source": [
        "## Explore Data (EDA) | Eksplorasi Data"
      ]
    },
    {
      "cell_type": "code",
      "execution_count": null,
      "metadata": {
        "id": "I8wwkBTBSZi0"
      },
      "outputs": [],
      "source": [
        "titanic_dataset.describe()"
      ]
    },
    {
      "cell_type": "code",
      "source": [
        "titanic_dataset.info()"
      ],
      "metadata": {
        "id": "DESK8OUFFopa"
      },
      "execution_count": null,
      "outputs": []
    },
    {
      "cell_type": "markdown",
      "metadata": {
        "id": "glO3uSH9SnE9"
      },
      "source": [
        "## Clean Data | Membersihkan Data"
      ]
    },
    {
      "cell_type": "code",
      "execution_count": null,
      "metadata": {
        "id": "g99M8h4gSm08"
      },
      "outputs": [],
      "source": [
        "titanic_dataset = titanic_dataset.dropna(axis=0)"
      ]
    },
    {
      "cell_type": "markdown",
      "metadata": {
        "id": "dQks3T8lSofl"
      },
      "source": [
        "# Model Training | Pelatihan Model"
      ]
    },
    {
      "cell_type": "markdown",
      "source": [
        "### Feature dan Label"
      ],
      "metadata": {
        "id": "V1fuD4vN9O8-"
      }
    },
    {
      "cell_type": "code",
      "source": [
        "x = titanic_dataset[[col for col in titanic_dataset.columns if col != 'survived']]\n",
        "y = titanic_dataset['survived']"
      ],
      "metadata": {
        "id": "_qFX2n-G9WVy"
      },
      "execution_count": null,
      "outputs": []
    },
    {
      "cell_type": "markdown",
      "source": [
        "### Splitting data"
      ],
      "metadata": {
        "id": "0mDoOCIn98XZ"
      }
    },
    {
      "cell_type": "code",
      "source": [
        "# Membagi data menjadi data latih dan data uji\n",
        "x_train, x_test, y_train, y_test = train_test_split(x, y, test_size=0.3, random_state=42)"
      ],
      "metadata": {
        "id": "kz0YfWP79_On"
      },
      "execution_count": 54,
      "outputs": []
    },
    {
      "cell_type": "markdown",
      "metadata": {
        "id": "Y5SjvlWsSum3"
      },
      "source": [
        "## Model Selection | Pemilihan Model"
      ]
    },
    {
      "cell_type": "markdown",
      "source": [
        "### Logistic Regression Model"
      ],
      "metadata": {
        "id": "-UWW2NbLGB35"
      }
    },
    {
      "cell_type": "code",
      "source": [
        "# Inisialisasi model Logistic Regression\n",
        "model = LogisticRegression(solver='lbfgs', max_iter=1000)\n",
        "\n",
        "# Melatih model pada data latih\n",
        "model.fit(x_train, y_train)\n",
        "\n",
        "# Memprediksi label untuk data uji\n",
        "predictions = model.predict(x_test)\n",
        "\n",
        "# Mengukur akurasi model\n",
        "accuracy = accuracy_score(y_test, predictions)\n",
        "print(\"Accuracy:\", accuracy)"
      ],
      "metadata": {
        "id": "_0S27X2OGAvQ",
        "outputId": "39c2c642-85e5-4470-e5aa-cfb2451f623e",
        "colab": {
          "base_uri": "https://localhost:8080/"
        }
      },
      "execution_count": 55,
      "outputs": [
        {
          "output_type": "stream",
          "name": "stdout",
          "text": [
            "Accuracy: 0.7420382165605095\n"
          ]
        }
      ]
    },
    {
      "cell_type": "markdown",
      "source": [
        "### Decission Trees"
      ],
      "metadata": {
        "id": "_X7IIHt9GQAW"
      }
    },
    {
      "cell_type": "code",
      "source": [
        "# Inisialisasi model Decision Tree\n",
        "dt_model = DecisionTreeClassifier()\n",
        "\n",
        "# Melatih model pada data latih\n",
        "dt_model.fit(x_train, y_train)\n",
        "\n",
        "# Memprediksi label untuk data uji\n",
        "dt_predictions = dt_model.predict(x_test)\n",
        "\n",
        "# Mengukur akurasi model\n",
        "dt_accuracy = accuracy_score(y_test, dt_predictions)\n",
        "print(\"Decision Tree Accuracy:\", dt_accuracy)"
      ],
      "metadata": {
        "id": "ocFFjZ8pGUMn",
        "outputId": "272dc8cf-21c3-423d-9881-61ee866a8a7a",
        "colab": {
          "base_uri": "https://localhost:8080/"
        }
      },
      "execution_count": 56,
      "outputs": [
        {
          "output_type": "stream",
          "name": "stdout",
          "text": [
            "Decision Tree Accuracy: 0.7229299363057324\n"
          ]
        }
      ]
    },
    {
      "cell_type": "markdown",
      "source": [
        "### Random Forest"
      ],
      "metadata": {
        "id": "NR1yJCVAGWB0"
      }
    },
    {
      "cell_type": "code",
      "source": [
        "# Inisialisasi model Random Forest\n",
        "rf_model = RandomForestClassifier()\n",
        "\n",
        "# Melatih model pada data latih\n",
        "rf_model.fit(x_train, y_train)\n",
        "\n",
        "# Memprediksi label untuk data uji\n",
        "rf_predictions = rf_model.predict(x_test)\n",
        "\n",
        "# Mengukur akurasi model\n",
        "rf_accuracy = accuracy_score(y_test, rf_predictions)\n",
        "print(\"Random Forest Accuracy:\", rf_accuracy)"
      ],
      "metadata": {
        "id": "rbmnb8BhGYSH",
        "outputId": "1f0a75d7-8453-4ef2-da51-01652edb2fd3",
        "colab": {
          "base_uri": "https://localhost:8080/"
        }
      },
      "execution_count": 57,
      "outputs": [
        {
          "output_type": "stream",
          "name": "stdout",
          "text": [
            "Random Forest Accuracy: 0.7515923566878981\n"
          ]
        }
      ]
    },
    {
      "cell_type": "markdown",
      "source": [
        "### Support Vector Machines (SVM)"
      ],
      "metadata": {
        "id": "j_CoESD4Gp1I"
      }
    },
    {
      "cell_type": "code",
      "source": [
        "# Inisialisasi model SVM\n",
        "svm_model = SVC()\n",
        "\n",
        "# Melatih model pada data latih\n",
        "svm_model.fit(x_train, y_train)\n",
        "\n",
        "# Memprediksi label untuk data uji\n",
        "svm_predictions = svm_model.predict(x_test)\n",
        "\n",
        "# Mengukur akurasi model\n",
        "svm_accuracy = accuracy_score(y_test, svm_predictions)\n",
        "print(\"SVM Accuracy:\", svm_accuracy)"
      ],
      "metadata": {
        "id": "2Hd4wNz0GwVp",
        "outputId": "61fa1c6f-aa92-405f-955e-f30c99b7b432",
        "colab": {
          "base_uri": "https://localhost:8080/"
        }
      },
      "execution_count": 58,
      "outputs": [
        {
          "output_type": "stream",
          "name": "stdout",
          "text": [
            "SVM Accuracy: 0.6592356687898089\n"
          ]
        }
      ]
    },
    {
      "cell_type": "markdown",
      "source": [
        "### Neural Network"
      ],
      "metadata": {
        "id": "ldHRIISmGzaR"
      }
    },
    {
      "cell_type": "code",
      "source": [
        "# Membuat kelas callback untuk menghentikan pelatihan saat akurasi mencapai 80%\n",
        "class MyCustomCallback(tf.keras.callbacks.Callback):\n",
        "    def on_epoch_end(self, epoch, logs=None):\n",
        "        if logs.get('val_accuracy') >= 0.8:\n",
        "            print(\"\\nReached 80% accuracy, stopping training!\")\n",
        "            self.model.stop_training = True\n",
        "\n",
        "\n",
        "\n",
        "# Inisialisasi model neural network\n",
        "model = Sequential([\n",
        "    Dense(32, activation='relu', input_shape=(len(x.columns),)),\n",
        "    Dense(16, activation='relu'),\n",
        "    Dense(1, activation='sigmoid')\n",
        "])\n",
        "\n",
        "# Membuat instance dari kelas callback\n",
        "custom_callback = MyCustomCallback()\n",
        "\n",
        "# Kompilasi model\n",
        "model.compile(optimizer='adam',\n",
        "              loss='binary_crossentropy',\n",
        "              metrics=['accuracy'])\n",
        "\n",
        "# Melatih model pada data latih\n",
        "history = model.fit(x_train, y_train, epochs=10, batch_size=32, validation_split=0.2, callbacks=[custom_callback])\n",
        "\n",
        "# Evaluasi model pada data uji\n",
        "loss, accuracy = model.evaluate(x_test, y_test)\n",
        "print(\"Test Loss:\", loss)\n",
        "print(\"Test Accuracy:\", accuracy)"
      ],
      "metadata": {
        "id": "kdnr2WHlGzrL",
        "outputId": "e243bf76-d833-4a9b-8874-f0d6da896c4d",
        "colab": {
          "base_uri": "https://localhost:8080/"
        }
      },
      "execution_count": 67,
      "outputs": [
        {
          "output_type": "stream",
          "name": "stdout",
          "text": [
            "Epoch 1/10\n",
            "19/19 [==============================] - 1s 15ms/step - loss: 0.8740 - accuracy: 0.6524 - val_loss: 0.7902 - val_accuracy: 0.6122\n",
            "Epoch 2/10\n",
            "19/19 [==============================] - 0s 5ms/step - loss: 0.6433 - accuracy: 0.6712 - val_loss: 0.7040 - val_accuracy: 0.6122\n",
            "Epoch 3/10\n",
            "19/19 [==============================] - 0s 5ms/step - loss: 0.6102 - accuracy: 0.6952 - val_loss: 0.6840 - val_accuracy: 0.6327\n",
            "Epoch 4/10\n",
            "19/19 [==============================] - 0s 4ms/step - loss: 0.5963 - accuracy: 0.6901 - val_loss: 0.6921 - val_accuracy: 0.6190\n",
            "Epoch 5/10\n",
            "19/19 [==============================] - 0s 4ms/step - loss: 0.6018 - accuracy: 0.6952 - val_loss: 0.6619 - val_accuracy: 0.6395\n",
            "Epoch 6/10\n",
            "19/19 [==============================] - 0s 4ms/step - loss: 0.5855 - accuracy: 0.7140 - val_loss: 0.6614 - val_accuracy: 0.6735\n",
            "Epoch 7/10\n",
            "19/19 [==============================] - 0s 4ms/step - loss: 0.5906 - accuracy: 0.6935 - val_loss: 0.6832 - val_accuracy: 0.6463\n",
            "Epoch 8/10\n",
            "19/19 [==============================] - 0s 4ms/step - loss: 0.5948 - accuracy: 0.6969 - val_loss: 0.6499 - val_accuracy: 0.6395\n",
            "Epoch 9/10\n",
            "19/19 [==============================] - 0s 5ms/step - loss: 0.5580 - accuracy: 0.7175 - val_loss: 0.6754 - val_accuracy: 0.6667\n",
            "Epoch 10/10\n",
            "19/19 [==============================] - 0s 4ms/step - loss: 0.5622 - accuracy: 0.7243 - val_loss: 0.6326 - val_accuracy: 0.6667\n",
            "10/10 [==============================] - 0s 3ms/step - loss: 0.5934 - accuracy: 0.6815\n",
            "Test Loss: 0.5933760404586792\n",
            "Test Accuracy: 0.6815286874771118\n"
          ]
        }
      ]
    },
    {
      "cell_type": "markdown",
      "metadata": {
        "id": "cPwx1aYuSsyy"
      },
      "source": [
        "# Model Evaluation | Evaluasi Model"
      ]
    },
    {
      "cell_type": "code",
      "execution_count": 68,
      "metadata": {
        "id": "mwm0uZ3LSuHU",
        "outputId": "5b2c4d64-f22b-454f-f505-bfa084e97fe8",
        "colab": {
          "base_uri": "https://localhost:8080/",
          "height": 447
        }
      },
      "outputs": [
        {
          "output_type": "execute_result",
          "data": {
            "text/plain": [
              "[<matplotlib.lines.Line2D at 0x7a56983a3910>]"
            ]
          },
          "metadata": {},
          "execution_count": 68
        },
        {
          "output_type": "display_data",
          "data": {
            "text/plain": [
              "<Figure size 640x480 with 1 Axes>"
            ],
            "image/png": "[encoded data removed]"
          },
          "metadata": {}
        }
      ],
      "source": [
        "plt.plot(history.history['accuracy'], history.history['val_accuracy'])"
      ]
    },
    {
      "cell_type": "markdown",
      "metadata": {
        "id": "Ryln4XIEaR-Z"
      },
      "source": [
        "## Conclusion | Kesimpulan"
      ]
    }
  ],
  "metadata": {
    "colab": {
      "provenance": [],
      "include_colab_link": true
    },
    "kernelspec": {
      "display_name": "Python 3",
      "name": "python3"
    },
    "language_info": {
      "name": "python"
    }
  },
  "nbformat": 4,
  "nbformat_minor": 0
}